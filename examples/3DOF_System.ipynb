{
 "cells": [
  {
   "cell_type": "code",
   "execution_count": null,
   "id": "43c8649f",
   "metadata": {},
   "outputs": [],
   "source": [
    "import numpy as np\n",
    "from three_dof_anim.system import build_3DOF_matrices, state_space_matrices, simulate_response, eigen_properties\n",
    "from three_dof_anim.forces import chirp_force, build_input\n",
    "from three_dof_anim.animation import make_animation, save_gif\n",
    "\n",
    "# Define system\n",
    "m, c, c1, k, k1 = 1.0, 0.1, 0.2, 100.0, 50.0\n",
    "M, C, K = build_3DOF_matrices(m, c, c1, k, k1)\n",
    "A, B, Cmat, D = state_space_matrices(M, C, K)\n",
    "lamb, psi, f_res = eigen_properties(M, K)\n",
    "\n",
    "# Define input\n",
    "t = np.linspace(0, 600, 6000)\n",
    "f_t = chirp_force(t, f0=0, f1=2)\n",
    "u = build_input(t, dof_index=2, f_t=f_t)\n",
    "\n",
    "# Simulate\n",
    "tout, yout, xout = simulate_response(A, B, Cmat, D, t, u)\n",
    "x_t = xout[:, :3]\n",
    "\n",
    "# Animate\n",
    "fig, ani = make_animation(tout, x_t, speed=2.0)\n",
    "save_gif(ani, 'three_dof_response.gif')\n"
   ]
  },
  {
   "cell_type": "code",
   "execution_count": null,
   "id": "07e09eb4",
   "metadata": {},
   "outputs": [],
   "source": [
    "from three_dof_anim.animation import make_animation, save_gif\n",
    "\n",
    "print(\"Package imported successfully!\")\n"
   ]
  },
  {
   "cell_type": "code",
   "execution_count": null,
   "id": "e06809b5",
   "metadata": {},
   "outputs": [],
   "source": []
  }
 ],
 "metadata": {
  "hide_input": false,
  "kernelspec": {
   "display_name": "three_dof_test",
   "language": "python",
   "name": "python3"
  },
  "language_info": {
   "codemirror_mode": {
    "name": "ipython",
    "version": 3
   },
   "file_extension": ".py",
   "mimetype": "text/x-python",
   "name": "python",
   "nbconvert_exporter": "python",
   "pygments_lexer": "ipython3",
   "version": "3.10.18"
  },
  "toc": {
   "base_numbering": 1,
   "nav_menu": {},
   "number_sections": true,
   "sideBar": true,
   "skip_h1_title": false,
   "title_cell": "Table of Contents",
   "title_sidebar": "Contents",
   "toc_cell": false,
   "toc_position": {},
   "toc_section_display": true,
   "toc_window_display": false
  }
 },
 "nbformat": 4,
 "nbformat_minor": 5
}
