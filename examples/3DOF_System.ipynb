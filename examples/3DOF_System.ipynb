{
 "cells": [
  {
   "cell_type": "code",
   "execution_count": null,
   "id": "43c8649f",
   "metadata": {},
   "outputs": [],
   "source": [
    "import numpy as np\n",
    "import matplotlib.pyplot as plt\n",
    "from three_dof_system.system import build_3DOF_matrices, state_space_matrices, simulate_response, eigen_properties\n",
    "from three_dof_system.forces import sine_force, build_input\n",
    "from three_dof_system.animation import make_animation, save_gif\n",
    "\n",
    "# Define system parameters\n",
    "m, c, c1, k, k1 = 1.0, 0.1, 0.1, 16, 16\n",
    "M, C, K = build_3DOF_matrices(m, c, c1, k, k1)\n",
    "A, B, Cmat, D = state_space_matrices(M, C, K)\n",
    "lamb, psi, f_res = eigen_properties(M, K)\n",
    "\n",
    "# Define input force\n",
    "t = np.linspace(0, 100, 1000)\n",
    "f_t = sine_force(t, freq=0.05, amp=1.0)\n",
    "u = build_input(t, dof_index=0, f_t=f_t)\n",
    "\n",
    "# Simulate response\n",
    "tout, yout, xout = simulate_response(A, B, Cmat, D, t, u)\n",
    "x_t = xout[:, :3]  # animate only 3 DOFs\n",
    "\n",
    "# Create animation\n",
    "fig, ani = make_animation(tout, x_t, speed=6)\n",
    "plt.show()\n",
    "\n",
    "# Save as GIF\n",
    "save_gif(ani, 'three_dof_demo.gif')\n",
    "print(\"Animation saved as three_dof_demo.gif\")"
   ]
  }
 ],
 "metadata": {
  "hide_input": false,
  "kernelspec": {
   "display_name": "base",
   "language": "python",
   "name": "python3"
  },
  "language_info": {
   "codemirror_mode": {
    "name": "ipython",
    "version": 3
   },
   "file_extension": ".py",
   "mimetype": "text/x-python",
   "name": "python",
   "nbconvert_exporter": "python",
   "pygments_lexer": "ipython3",
   "version": "3.11.5"
  },
  "toc": {
   "base_numbering": 1,
   "nav_menu": {},
   "number_sections": true,
   "sideBar": true,
   "skip_h1_title": false,
   "title_cell": "Table of Contents",
   "title_sidebar": "Contents",
   "toc_cell": false,
   "toc_position": {},
   "toc_section_display": true,
   "toc_window_display": false
  }
 },
 "nbformat": 4,
 "nbformat_minor": 5
}
